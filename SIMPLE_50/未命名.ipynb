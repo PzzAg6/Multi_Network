{
 "cells": [
  {
   "cell_type": "code",
   "execution_count": 1,
   "metadata": {},
   "outputs": [
    {
     "name": "stdout",
     "output_type": "stream",
     "text": [
      "/Users/pangyusheng/Desktop/论文/NETWORKS/new mission/SIMPLE_50 ['SMALL_50_Given_0.4', 'SMALL_50_Given_0.3', 'SMALL_50_Given_0.2', 'SMALL_50_Given_0.5', '__pycache__', 'SMALL_50_Random', 'SMALL_50_Given_0.9', 'SMALL_50_Given_0.7', 'SMALL_50_Given_0.6', 'SMALL_50_Given_0.1', 'SMALL_50_Given_0.8', '.ipynb_checkpoints'] ['网络生成.zip', '.DS_Store', 'Document_Save.py', 'detail.txt', '未命名.ipynb', 'Gen_DATA.py', 'class_network_1.py']\n",
      "/Users/pangyusheng/Desktop/论文/NETWORKS/new mission/SIMPLE_50/SMALL_50_Given_0.4 [] ['SMALL_50_Given_0.4_Compress_NT.nt', 'SMALL_50_Given_0.4_Wei_Btw_Layer.pkl', 'SMALL_50_Given_0.4_SP_Info.pkl']\n",
      "/Users/pangyusheng/Desktop/论文/NETWORKS/new mission/SIMPLE_50/SMALL_50_Given_0.3 [] ['SMALL_50_Given_0.3_Compress_NT.nt', 'SMALL_50_Given_0.3_Wei_Btw_Layer.pkl', 'SMALL_50_Given_0.3_SP_Info.pkl']\n",
      "/Users/pangyusheng/Desktop/论文/NETWORKS/new mission/SIMPLE_50/SMALL_50_Given_0.2 [] ['SMALL_50_Given_0.2_Compress_NT.nt', 'SMALL_50_Given_0.2_Wei_Btw_Layer.pkl', 'SMALL_50_Given_0.2_SP_Info.pkl']\n",
      "/Users/pangyusheng/Desktop/论文/NETWORKS/new mission/SIMPLE_50/SMALL_50_Given_0.5 [] ['SMALL_50_Given_0.5_Compress_NT.nt', 'SMALL_50_Given_0.5_Wei_Btw_Layer.pkl', 'SMALL_50_Given_0.5_SP_Info.pkl']\n",
      "/Users/pangyusheng/Desktop/论文/NETWORKS/new mission/SIMPLE_50/__pycache__ [] ['Document_Save.cpython-37.pyc', 'class_network_1.cpython-37.pyc']\n",
      "/Users/pangyusheng/Desktop/论文/NETWORKS/new mission/SIMPLE_50/SMALL_50_Random [] ['SMALL_50_Random_SP_Info.pkl', 'SMALL_50_Random_Wei_Btw_Layer.pkl', 'SMALL_50_Random_Compress_NT.nt']\n",
      "/Users/pangyusheng/Desktop/论文/NETWORKS/new mission/SIMPLE_50/SMALL_50_Given_0.9 [] ['SMALL_50_Given_0.9_Compress_NT.nt', 'SMALL_50_Given_0.9_Wei_Btw_Layer.pkl', 'SMALL_50_Given_0.9_SP_Info.pkl']\n",
      "/Users/pangyusheng/Desktop/论文/NETWORKS/new mission/SIMPLE_50/SMALL_50_Given_0.7 [] ['SMALL_50_Given_0.7_Wei_Btw_Layer.pkl', 'SMALL_50_Given_0.7_SP_Info.pkl', 'SMALL_50_Given_0.7_Compress_NT.nt']\n",
      "/Users/pangyusheng/Desktop/论文/NETWORKS/new mission/SIMPLE_50/SMALL_50_Given_0.6 [] ['SMALL_50_Given_0.6_Wei_Btw_Layer.pkl', 'SMALL_50_Given_0.6_Compress_NT.nt', 'SMALL_50_Given_0.6_SP_Info.pkl']\n",
      "/Users/pangyusheng/Desktop/论文/NETWORKS/new mission/SIMPLE_50/SMALL_50_Given_0.1 ['hhhhhhh'] ['SMALL_50_Given_0.1_SP_Info.pkl', 'SMALL_50_Given_0.1_Compress_NT.nt', 'SMALL_50_Given_0.1_Wei_Btw_Layer.pkl']\n",
      "/Users/pangyusheng/Desktop/论文/NETWORKS/new mission/SIMPLE_50/SMALL_50_Given_0.1/hhhhhhh [] []\n",
      "/Users/pangyusheng/Desktop/论文/NETWORKS/new mission/SIMPLE_50/SMALL_50_Given_0.8 [] ['SMALL_50_Given_0.8_SP_Info.pkl', 'SMALL_50_Given_0.8_Compress_NT.nt', 'SMALL_50_Given_0.8_Wei_Btw_Layer.pkl']\n",
      "/Users/pangyusheng/Desktop/论文/NETWORKS/new mission/SIMPLE_50/.ipynb_checkpoints [] ['未命名-checkpoint.ipynb']\n"
     ]
    }
   ],
   "source": [
    "import os\n",
    "for root, dirs, files in os.walk(os.getcwd()):\n",
    "    print(root, dirs, files)"
   ]
  },
  {
   "cell_type": "code",
   "execution_count": 6,
   "metadata": {},
   "outputs": [
    {
     "name": "stdout",
     "output_type": "stream",
     "text": [
      "/Users/pangyusheng/Desktop/论文/NETWORKS/new mission/SIMPLE_50 ['网络生成.zip', '.DS_Store', 'Document_Save.py', 'detail.txt', '未命名.ipynb', 'Gen_DATA.py', 'class_network_1.py']\n",
      "/Users/pangyusheng/Desktop/论文/NETWORKS/new mission/SIMPLE_50/SMALL_50_Given_0.4 ['SMALL_50_Given_0.4_Compress_NT.nt', 'SMALL_50_Given_0.4_Wei_Btw_Layer.pkl', 'SMALL_50_Given_0.4_SP_Info.pkl']\n",
      "/Users/pangyusheng/Desktop/论文/NETWORKS/new mission/SIMPLE_50/SMALL_50_Given_0.3 ['SMALL_50_Given_0.3_Compress_NT.nt', 'SMALL_50_Given_0.3_Wei_Btw_Layer.pkl', 'SMALL_50_Given_0.3_SP_Info.pkl']\n",
      "/Users/pangyusheng/Desktop/论文/NETWORKS/new mission/SIMPLE_50/SMALL_50_Given_0.2 ['SMALL_50_Given_0.2_Compress_NT.nt', 'SMALL_50_Given_0.2_Wei_Btw_Layer.pkl', 'SMALL_50_Given_0.2_SP_Info.pkl']\n",
      "/Users/pangyusheng/Desktop/论文/NETWORKS/new mission/SIMPLE_50/SMALL_50_Given_0.5 ['SMALL_50_Given_0.5_Compress_NT.nt', 'SMALL_50_Given_0.5_Wei_Btw_Layer.pkl', 'SMALL_50_Given_0.5_SP_Info.pkl']\n",
      "/Users/pangyusheng/Desktop/论文/NETWORKS/new mission/SIMPLE_50/SMALL_50_Random ['SMALL_50_Random_SP_Info.pkl', 'SMALL_50_Random_Wei_Btw_Layer.pkl', 'SMALL_50_Random_Compress_NT.nt']\n",
      "/Users/pangyusheng/Desktop/论文/NETWORKS/new mission/SIMPLE_50/SMALL_50_Given_0.9 ['SMALL_50_Given_0.9_Compress_NT.nt', 'SMALL_50_Given_0.9_Wei_Btw_Layer.pkl', 'SMALL_50_Given_0.9_SP_Info.pkl']\n",
      "/Users/pangyusheng/Desktop/论文/NETWORKS/new mission/SIMPLE_50/SMALL_50_Given_0.7 ['SMALL_50_Given_0.7_Wei_Btw_Layer.pkl', 'SMALL_50_Given_0.7_SP_Info.pkl', 'SMALL_50_Given_0.7_Compress_NT.nt']\n",
      "/Users/pangyusheng/Desktop/论文/NETWORKS/new mission/SIMPLE_50/SMALL_50_Given_0.6 ['SMALL_50_Given_0.6_Wei_Btw_Layer.pkl', 'SMALL_50_Given_0.6_Compress_NT.nt', 'SMALL_50_Given_0.6_SP_Info.pkl']\n",
      "/Users/pangyusheng/Desktop/论文/NETWORKS/new mission/SIMPLE_50/SMALL_50_Given_0.1 ['SMALL_50_Given_0.1_SP_Info.pkl', 'SMALL_50_Given_0.1_Compress_NT.nt', 'SMALL_50_Given_0.1_Wei_Btw_Layer.pkl']\n",
      "/Users/pangyusheng/Desktop/论文/NETWORKS/new mission/SIMPLE_50/SMALL_50_Given_0.1/hhhhhhh []\n",
      "/Users/pangyusheng/Desktop/论文/NETWORKS/new mission/SIMPLE_50/SMALL_50_Given_0.8 ['SMALL_50_Given_0.8_SP_Info.pkl', 'SMALL_50_Given_0.8_Compress_NT.nt', 'SMALL_50_Given_0.8_Wei_Btw_Layer.pkl']\n",
      "/Users/pangyusheng/Desktop/论文/NETWORKS/new mission/SIMPLE_50/.ipynb_checkpoints ['未命名-checkpoint.ipynb']\n"
     ]
    }
   ],
   "source": [
    "#只有topdown不为None才可以去掉不必要的文件\n",
    "\n",
    "for root, dirs, files in os.walk(os.getcwd()):\n",
    "    if '__pycache__' in dirs:\n",
    "        dirs.remove('__pycache__')\n",
    "        \n",
    "    print(root, files)"
   ]
  },
  {
   "cell_type": "code",
   "execution_count": 8,
   "metadata": {},
   "outputs": [
    {
     "name": "stdout",
     "output_type": "stream",
     "text": [
      "/Users/pangyusheng/Desktop/论文/NETWORKS/new mission/SIMPLE_50/SMALL_50_Given_0.4 ['SMALL_50_Given_0.4_Compress_NT.nt', 'SMALL_50_Given_0.4_Wei_Btw_Layer.pkl', 'SMALL_50_Given_0.4_SP_Info.pkl']\n",
      "/Users/pangyusheng/Desktop/论文/NETWORKS/new mission/SIMPLE_50/SMALL_50_Given_0.3 ['SMALL_50_Given_0.3_Compress_NT.nt', 'SMALL_50_Given_0.3_Wei_Btw_Layer.pkl', 'SMALL_50_Given_0.3_SP_Info.pkl']\n",
      "/Users/pangyusheng/Desktop/论文/NETWORKS/new mission/SIMPLE_50/SMALL_50_Given_0.2 ['SMALL_50_Given_0.2_Compress_NT.nt', 'SMALL_50_Given_0.2_Wei_Btw_Layer.pkl', 'SMALL_50_Given_0.2_SP_Info.pkl']\n",
      "/Users/pangyusheng/Desktop/论文/NETWORKS/new mission/SIMPLE_50/SMALL_50_Given_0.5 ['SMALL_50_Given_0.5_Compress_NT.nt', 'SMALL_50_Given_0.5_Wei_Btw_Layer.pkl', 'SMALL_50_Given_0.5_SP_Info.pkl']\n",
      "/Users/pangyusheng/Desktop/论文/NETWORKS/new mission/SIMPLE_50/SMALL_50_Random ['SMALL_50_Random_SP_Info.pkl', 'SMALL_50_Random_Wei_Btw_Layer.pkl', 'SMALL_50_Random_Compress_NT.nt']\n",
      "/Users/pangyusheng/Desktop/论文/NETWORKS/new mission/SIMPLE_50/SMALL_50_Given_0.9 ['SMALL_50_Given_0.9_Compress_NT.nt', 'SMALL_50_Given_0.9_Wei_Btw_Layer.pkl', 'SMALL_50_Given_0.9_SP_Info.pkl']\n",
      "/Users/pangyusheng/Desktop/论文/NETWORKS/new mission/SIMPLE_50/SMALL_50_Given_0.7 ['SMALL_50_Given_0.7_Wei_Btw_Layer.pkl', 'SMALL_50_Given_0.7_SP_Info.pkl', 'SMALL_50_Given_0.7_Compress_NT.nt']\n",
      "/Users/pangyusheng/Desktop/论文/NETWORKS/new mission/SIMPLE_50/SMALL_50_Given_0.6 ['SMALL_50_Given_0.6_Wei_Btw_Layer.pkl', 'SMALL_50_Given_0.6_Compress_NT.nt', 'SMALL_50_Given_0.6_SP_Info.pkl']\n",
      "/Users/pangyusheng/Desktop/论文/NETWORKS/new mission/SIMPLE_50/SMALL_50_Given_0.1/hhhhhhh []\n",
      "/Users/pangyusheng/Desktop/论文/NETWORKS/new mission/SIMPLE_50/SMALL_50_Given_0.8 ['SMALL_50_Given_0.8_SP_Info.pkl', 'SMALL_50_Given_0.8_Compress_NT.nt', 'SMALL_50_Given_0.8_Wei_Btw_Layer.pkl']\n",
      "/Users/pangyusheng/Desktop/论文/NETWORKS/new mission/SIMPLE_50/.ipynb_checkpoints ['未命名-checkpoint.ipynb']\n"
     ]
    }
   ],
   "source": [
    "for root, dirs, files in os.walk(os.getcwd()):\n",
    "    if '__pycache__' in dirs:\n",
    "        dirs.remove('__pycache__')\n",
    "    if len(dirs) == 0:\n",
    "        print(root, files)"
   ]
  },
  {
   "cell_type": "code",
   "execution_count": 9,
   "metadata": {},
   "outputs": [
    {
     "name": "stdout",
     "output_type": "stream",
     "text": [
      "/Users/pangyusheng/Desktop/论文/NETWORKS/new mission/SIMPLE_50\n"
     ]
    }
   ],
   "source": [
    "print(os.getcwd())"
   ]
  },
  {
   "cell_type": "code",
   "execution_count": 10,
   "metadata": {},
   "outputs": [
    {
     "data": {
      "text/plain": [
       "'SIMPLE_50'"
      ]
     },
     "execution_count": 10,
     "metadata": {},
     "output_type": "execute_result"
    }
   ],
   "source": [
    "os.getcwd().split('/')[-1]"
   ]
  },
  {
   "cell_type": "code",
   "execution_count": 11,
   "metadata": {},
   "outputs": [
    {
     "name": "stdout",
     "output_type": "stream",
     "text": [
      "True\n"
     ]
    }
   ],
   "source": [
    "a = 'abadcd'\n",
    "b = 'dcd'\n",
    "if a.endswith(b):\n",
    "    print(\"True\")"
   ]
  },
  {
   "cell_type": "code",
   "execution_count": 24,
   "metadata": {},
   "outputs": [
    {
     "name": "stderr",
     "output_type": "stream",
     "text": [
      "IOPub data rate exceeded.\n",
      "The notebook server will temporarily stop sending output\n",
      "to the client in order to avoid crashing it.\n",
      "To change this limit, set the config variable\n",
      "`--NotebookApp.iopub_data_rate_limit`.\n",
      "\n",
      "Current values:\n",
      "NotebookApp.iopub_data_rate_limit=1000000.0 (bytes/sec)\n",
      "NotebookApp.rate_limit_window=3.0 (secs)\n",
      "\n"
     ]
    }
   ],
   "source": [
    "WEI_NAME = 'Wei_Btw_Layer.pkl'\n",
    "\n",
    "SP_NAME = 'SP_Info.pkl'\n",
    "import pickle\n",
    "time = 1\n",
    "\n",
    "for root, dirs, files in os.walk(os.getcwd()):\n",
    "    if '__pycache__' in dirs:\n",
    "        dirs.remove('__pycache__')\n",
    "    if len(dirs) == 0:\n",
    "        if time > 2:\n",
    "            break\n",
    "    \t#表明是子目录\n",
    "# \t\tprint(root, files)\n",
    "        Wei_Btw_Layer = list()\n",
    "        SP_Info = dict()\n",
    "        for name in files:\n",
    "            if name.endswith(WEI_NAME):\n",
    "                pkl_file = open(os.path.join(root, name), 'rb')\n",
    "                Wei_Btw_Layer = pickle.load(pkl_file)\n",
    "                pkl_file.close()\n",
    "            elif name.endswith(SP_NAME):\n",
    "                pkl_file = open(os.path.join(root, name), 'rb')\n",
    "                SP_Info = pickle.load(pkl_file)\n",
    "                pkl_file.close()\n",
    "        print(SP_Info)\n",
    "        time += 1"
   ]
  },
  {
   "cell_type": "code",
   "execution_count": 36,
   "metadata": {},
   "outputs": [
    {
     "name": "stdout",
     "output_type": "stream",
     "text": [
      "1 1\n",
      "2 2\n",
      "3 3\n"
     ]
    }
   ],
   "source": [
    "a = [1, 2, 3]\n",
    "b = [1, 2, 3]\n",
    "c = zip(a, b)\n",
    "for u, v in c:\n",
    "    print(u, v)"
   ]
  },
  {
   "cell_type": "code",
   "execution_count": 26,
   "metadata": {},
   "outputs": [
    {
     "name": "stdout",
     "output_type": "stream",
     "text": [
      "<zip object at 0x7fdfda334f48>\n"
     ]
    }
   ],
   "source": [
    "print(c)"
   ]
  },
  {
   "cell_type": "code",
   "execution_count": 27,
   "metadata": {},
   "outputs": [
    {
     "data": {
      "text/plain": [
       "[(1, 1), (2, 2), (3, 3)]"
      ]
     },
     "execution_count": 27,
     "metadata": {},
     "output_type": "execute_result"
    }
   ],
   "source": [
    "list(c)"
   ]
  },
  {
   "cell_type": "code",
   "execution_count": 32,
   "metadata": {},
   "outputs": [
    {
     "data": {
      "text/plain": [
       "[1, 1, 1, 1, 1]"
      ]
     },
     "execution_count": 32,
     "metadata": {},
     "output_type": "execute_result"
    }
   ],
   "source": [
    "[1]*5"
   ]
  },
  {
   "cell_type": "code",
   "execution_count": 35,
   "metadata": {},
   "outputs": [
    {
     "ename": "TypeError",
     "evalue": "list expected at most 1 arguments, got 3",
     "output_type": "error",
     "traceback": [
      "\u001b[0;31m---------------------------------------------------------------------\u001b[0m",
      "\u001b[0;31mTypeError\u001b[0m                           Traceback (most recent call last)",
      "\u001b[0;32m<ipython-input-35-a4a7e90a2e54>\u001b[0m in \u001b[0;36m<module>\u001b[0;34m\u001b[0m\n\u001b[0;32m----> 1\u001b[0;31m \u001b[0ma\u001b[0m \u001b[0;34m=\u001b[0m \u001b[0mlist\u001b[0m\u001b[0;34m(\u001b[0m\u001b[0;36m2\u001b[0m\u001b[0;34m,\u001b[0m \u001b[0;36m3\u001b[0m\u001b[0;34m,\u001b[0m \u001b[0;36m2\u001b[0m\u001b[0;34m)\u001b[0m\u001b[0;34m\u001b[0m\u001b[0;34m\u001b[0m\u001b[0m\n\u001b[0m",
      "\u001b[0;31mTypeError\u001b[0m: list expected at most 1 arguments, got 3"
     ]
    }
   ],
   "source": [
    "a = list(2, 3, 2)"
   ]
  },
  {
   "cell_type": "code",
   "execution_count": 37,
   "metadata": {},
   "outputs": [
    {
     "data": {
      "text/plain": [
       "[2, 3]"
      ]
     },
     "execution_count": 37,
     "metadata": {},
     "output_type": "execute_result"
    }
   ],
   "source": [
    "list((2,3))"
   ]
  },
  {
   "cell_type": "code",
   "execution_count": 1,
   "metadata": {},
   "outputs": [],
   "source": [
    "s = '/Users/pangyusheng/Desktop/论文/NETWORKS/new mission/SIMPLE_50/SMALL_50_Given_0.6'"
   ]
  },
  {
   "cell_type": "code",
   "execution_count": 2,
   "metadata": {},
   "outputs": [
    {
     "data": {
      "text/plain": [
       "'SIMPLE_50'"
      ]
     },
     "execution_count": 2,
     "metadata": {},
     "output_type": "execute_result"
    }
   ],
   "source": [
    "s.split('/')[-2]"
   ]
  },
  {
   "cell_type": "code",
   "execution_count": 5,
   "metadata": {},
   "outputs": [],
   "source": [
    "import os\n",
    "b = os.path.split(s)"
   ]
  },
  {
   "cell_type": "code",
   "execution_count": 6,
   "metadata": {},
   "outputs": [
    {
     "data": {
      "text/plain": [
       "'SMALL_50_Given_0.6'"
      ]
     },
     "execution_count": 6,
     "metadata": {},
     "output_type": "execute_result"
    }
   ],
   "source": [
    "b[1]"
   ]
  },
  {
   "cell_type": "code",
   "execution_count": 7,
   "metadata": {},
   "outputs": [],
   "source": [
    "a, b = os.path.split(s)"
   ]
  },
  {
   "cell_type": "code",
   "execution_count": 8,
   "metadata": {},
   "outputs": [
    {
     "data": {
      "text/plain": [
       "'/Users/pangyusheng/Desktop/论文/NETWORKS/new mission/SIMPLE_50'"
      ]
     },
     "execution_count": 8,
     "metadata": {},
     "output_type": "execute_result"
    }
   ],
   "source": [
    "a"
   ]
  },
  {
   "cell_type": "code",
   "execution_count": 9,
   "metadata": {},
   "outputs": [
    {
     "data": {
      "text/plain": [
       "'SMALL_50_Given_0.6'"
      ]
     },
     "execution_count": 9,
     "metadata": {},
     "output_type": "execute_result"
    }
   ],
   "source": [
    "b"
   ]
  },
  {
   "cell_type": "code",
   "execution_count": 10,
   "metadata": {},
   "outputs": [],
   "source": [
    "import time"
   ]
  },
  {
   "cell_type": "code",
   "execution_count": 13,
   "metadata": {},
   "outputs": [
    {
     "data": {
      "text/plain": [
       "'_2021_11_19_17_10_46'"
      ]
     },
     "execution_count": 13,
     "metadata": {},
     "output_type": "execute_result"
    }
   ],
   "source": [
    "time.strftime(\"_%Y_%m_%d_%H_%M_%S\", time.localtime()) "
   ]
  },
  {
   "cell_type": "code",
   "execution_count": 17,
   "metadata": {},
   "outputs": [
    {
     "name": "stdout",
     "output_type": "stream",
     "text": [
      "3\n",
      "0\n",
      "1\n",
      "0\n",
      "0\n",
      "3\n",
      "4\n",
      "0\n",
      "1\n",
      "0\n"
     ]
    }
   ],
   "source": [
    "import random\n",
    "for i in range(10):\n",
    "    print(random.randint(0, 4))"
   ]
  },
  {
   "cell_type": "code",
   "execution_count": null,
   "metadata": {},
   "outputs": [],
   "source": []
  }
 ],
 "metadata": {
  "kernelspec": {
   "display_name": "Python 3",
   "language": "python",
   "name": "python3"
  },
  "language_info": {
   "codemirror_mode": {
    "name": "ipython",
    "version": 3
   },
   "file_extension": ".py",
   "mimetype": "text/x-python",
   "name": "python",
   "nbconvert_exporter": "python",
   "pygments_lexer": "ipython3",
   "version": "3.7.3"
  }
 },
 "nbformat": 4,
 "nbformat_minor": 2
}
